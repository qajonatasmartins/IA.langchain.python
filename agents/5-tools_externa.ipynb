{
 "cells": [
  {
   "cell_type": "code",
   "execution_count": 14,
   "metadata": {},
   "outputs": [],
   "source": [
    "import wikipedia\n",
    "from langchain.agents import tool\n",
    "\n",
    "wikipedia.set_lang(\"pt\")"
   ]
  },
  {
   "cell_type": "code",
   "execution_count": 15,
   "metadata": {},
   "outputs": [],
   "source": [
    "@tool\n",
    "def busca_wikipedia(query: str):\n",
    "    \"\"\"Busca dados no wikipedia e retorna resumos de páginas para a query\"\"\"\n",
    "    titulo_paginas = wikipedia.search(query)\n",
    "    resumos = []\n",
    "    for titulo in titulo_paginas[:3]:\n",
    "        try:\n",
    "            wiki_page = wikipedia.page(title=titulo, auto_suggest=True)\n",
    "            resumos.append(f\"Título: {titulo}\\nResumo: {wiki_page.summary}\")\n",
    "        except:\n",
    "            pass\n",
    "    if not resumos:\n",
    "        return \"Busca não teve retorno\"\n",
    "    else:\n",
    "        return \"\\n\\n\".join(resumos)"
   ]
  },
  {
   "cell_type": "code",
   "execution_count": 16,
   "metadata": {},
   "outputs": [
    {
     "name": "stderr",
     "output_type": "stream",
     "text": [
      "/Users/jonatasmartins/.pyenv/versions/3.11.5/lib/python3.11/site-packages/wikipedia/wikipedia.py:389: GuessedAtParserWarning: No parser was explicitly specified, so I'm using the best available HTML parser for this system (\"lxml\"). This usually isn't a problem, but if you run this code on another system, or in a different virtual environment, it may use a different parser and behave differently.\n",
      "\n",
      "The code that caused this warning is on line 389 of the file /Users/jonatasmartins/.pyenv/versions/3.11.5/lib/python3.11/site-packages/wikipedia/wikipedia.py. To get rid of this warning, pass the additional argument 'features=\"lxml\"' to the BeautifulSoup constructor.\n",
      "\n",
      "  lis = BeautifulSoup(html).find_all('li')\n"
     ]
    },
    {
     "data": {
      "text/plain": [
       "\"Título: Teste de software\\nResumo: O teste do software  é a investigação do software a fim de fornecer informações sobre sua qualidade em relação ao contexto em que ele deve operar, se relaciona com o conceito de verificação e validação. Isso inclui o processo de utilizar o produto para encontrar seus defeitos.\\nO teste é um processo realizado pelo testador de software, que permeia outros processos da engenharia de software, e que envolve ações que vão do levantamento de requisitos até a execução do teste propriamente dito.\\n\\nTítulo: Software\\nResumo: Software (pronúncia em inglês: ['sɔftwɛəɹ]) é uma coleção de programas que dizem a um computador como executar tarefas específicas. Isso contrasta com o hardware, a partir do qual o sistema é construído e que realmente executa o trabalho.\\nSoftware é o termo usado para se referir a uma sequência de instruções executadas em um dispositivo informático, como um computador ou máquina semelhante. Ele é um produto da engenharia de software e inclui não apenas o programa em si, mas também quaisquer documentações e especificações.\\nUm software é geralmente composto por diversas funções, bibliotecas e módulos que, ao final do desenvolvimento, formam um programa executável. Quando executado, esse programa recebe dados de entrada (input), processa as informações por meio de algoritmos ou sequências de instruções lógicas e gera uma saída (output) como resultado deste processamento.\\nA maioria dos softwares é escrita em linguagens de programação de alto nível, como Python, Java, JavaScript, TypeScript, C#, Go, PHP, Kotlin, Ruby, Dart, R, Swift, entre outras. Essas linguagens são mais fáceis e eficientes para os programadores, pois estão mais próximas das linguagens naturais do que do código de máquina. Elas são traduzidas para a linguagem de máquina por meio de um compilador, um interpretador ou uma combinação dos dois.\\nSoftwares também podem ser escritos em linguagens de nível mais baixo, como Assembly. Além disso, linguagens como C, C++ e Rust, embora geralmente classificadas como de médio ou alto nível, são frequentemente usadas para programação de baixo nível devido ao seu controle direto sobre o hardware e à proximidade com a linguagem de máquina. As linguagens assembly, por sua vez, possuem uma forte correspondência com as instruções da CPU e são traduzidas para a linguagem de máquina usando um assembler.\\nEste produto passa por várias etapas como: análise econômica, análise de requisitos, especificação, codificação, teste, documentação, Treinamento, manutenção e implantação nos ambientes.\\nPara fins contabilísticos e financeiros, o software é considerado um bem de capital.\""
      ]
     },
     "execution_count": 16,
     "metadata": {},
     "output_type": "execute_result"
    }
   ],
   "source": [
    "busca_wikipedia.invoke({\"query\": \"Teste de software\"})"
   ]
  },
  {
   "cell_type": "code",
   "execution_count": 17,
   "metadata": {},
   "outputs": [],
   "source": [
    "from langchain.prompts import ChatPromptTemplate\n",
    "from langchain_openai import ChatOpenAI\n",
    "from langchain_core.utils.function_calling import convert_to_openai_function\n",
    "\n",
    "prompt = ChatPromptTemplate.from_messages([\n",
    "    (\"system\", \"Você é um assistente que sabe sobre teste de software\"),\n",
    "    (\"user\", \"{input}\")\n",
    "])\n",
    "\n",
    "chat = ChatOpenAI()\n",
    "\n",
    "tools = [convert_to_openai_function(busca_wikipedia)]\n",
    "\n",
    "chain = prompt | chat.bind(functions=tools)"
   ]
  },
  {
   "cell_type": "code",
   "execution_count": 18,
   "metadata": {},
   "outputs": [
    {
     "data": {
      "text/plain": [
       "AIMessage(content='Olá! Como posso te ajudar hoje?', additional_kwargs={'refusal': None}, response_metadata={'token_usage': {'completion_tokens': 13, 'prompt_tokens': 70, 'total_tokens': 83, 'completion_tokens_details': {'accepted_prediction_tokens': 0, 'audio_tokens': 0, 'reasoning_tokens': 0, 'rejected_prediction_tokens': 0}, 'prompt_tokens_details': {'audio_tokens': 0, 'cached_tokens': 0}}, 'model_name': 'gpt-3.5-turbo-0125', 'system_fingerprint': None, 'finish_reason': 'stop', 'logprobs': None}, id='run-c133f2cd-2ef1-4dc8-8620-3f9f04d51c15-0', usage_metadata={'input_tokens': 70, 'output_tokens': 13, 'total_tokens': 83, 'input_token_details': {'audio': 0, 'cache_read': 0}, 'output_token_details': {'audio': 0, 'reasoning': 0}})"
      ]
     },
     "execution_count": 18,
     "metadata": {},
     "output_type": "execute_result"
    }
   ],
   "source": [
    "chain.invoke({\"input\": \"olá\"})"
   ]
  },
  {
   "cell_type": "code",
   "execution_count": 20,
   "metadata": {},
   "outputs": [
    {
     "name": "stdout",
     "output_type": "stream",
     "text": [
      "content='' additional_kwargs={'function_call': {'arguments': '{\"query\":\"teste de software\"}', 'name': 'busca_wikipedia'}, 'refusal': None} response_metadata={'token_usage': {'completion_tokens': 19, 'prompt_tokens': 75, 'total_tokens': 94, 'completion_tokens_details': {'accepted_prediction_tokens': 0, 'audio_tokens': 0, 'reasoning_tokens': 0, 'rejected_prediction_tokens': 0}, 'prompt_tokens_details': {'audio_tokens': 0, 'cached_tokens': 0}}, 'model_name': 'gpt-3.5-turbo-0125', 'system_fingerprint': None, 'finish_reason': 'function_call', 'logprobs': None} id='run-30ac04d2-aa68-4fb2-80a0-652934baf693-0' usage_metadata={'input_tokens': 75, 'output_tokens': 19, 'total_tokens': 94, 'input_token_details': {'audio': 0, 'cache_read': 0}, 'output_token_details': {'audio': 0, 'reasoning': 0}}\n"
     ]
    }
   ],
   "source": [
    "resultado = chain.invoke({\"input\": \"O que é teste de software?\"})\n",
    "\n",
    "print(resultado)"
   ]
  }
 ],
 "metadata": {
  "kernelspec": {
   "display_name": "Python 3",
   "language": "python",
   "name": "python3"
  },
  "language_info": {
   "codemirror_mode": {
    "name": "ipython",
    "version": 3
   },
   "file_extension": ".py",
   "mimetype": "text/x-python",
   "name": "python",
   "nbconvert_exporter": "python",
   "pygments_lexer": "ipython3",
   "version": "3.11.5"
  }
 },
 "nbformat": 4,
 "nbformat_minor": 2
}
