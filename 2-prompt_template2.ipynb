{
 "cells": [
  {
   "cell_type": "code",
   "execution_count": 6,
   "metadata": {},
   "outputs": [
    {
     "name": "stdout",
     "output_type": "stream",
     "text": [
      "\n",
      "    Conte uma história sobre:\n",
      "    um gato\n",
      "    Com o total de 100 palavras\n",
      "    \n"
     ]
    }
   ],
   "source": [
    "from langchain_openai.llms import OpenAI\n",
    "\n",
    "llm = OpenAI()\n",
    "\n",
    "from langchain.prompts import PromptTemplate\n",
    "\n",
    "prompt_template = PromptTemplate.from_template(\"\"\"\n",
    "    Conte uma história sobre:\n",
    "    {tema}\n",
    "    Com o total de {numero_de_palavras} palavras\n",
    "    \"\"\"\n",
    "    )\n",
    "\n",
    "print(prompt_template.format(tema=\"um gato\", numero_de_palavras=100))"
   ]
  },
  {
   "cell_type": "code",
   "execution_count": 7,
   "metadata": {},
   "outputs": [
    {
     "name": "stdout",
     "output_type": "stream",
     "text": [
      "\n",
      "    Conte uma história sobre:\n",
      "    um gato\n",
      "    Com o total de 12 palavras\n",
      "    \n"
     ]
    }
   ],
   "source": [
    "from langchain_openai.llms import OpenAI\n",
    "\n",
    "llm = OpenAI()\n",
    "\n",
    "from langchain.prompts import PromptTemplate\n",
    "\n",
    "prompt_template = PromptTemplate.from_template(\"\"\"\n",
    "    Conte uma história sobre:\n",
    "    {tema}\n",
    "    Com o total de {numero_de_palavras} palavras\n",
    "    \"\"\", partial_variables={\"numero_de_palavras\": 12}\n",
    "    ) \n",
    "\n",
    "print(prompt_template.format(tema=\"um gato\"))"
   ]
  },
  {
   "cell_type": "code",
   "execution_count": 9,
   "metadata": {},
   "outputs": [
    {
     "name": "stdout",
     "output_type": "stream",
     "text": [
      "input_variables=['idioma', 'numero_de_linhas', 'numero_de_palavras', 'perguntas'] input_types={} partial_variables={} template='\\n    Responda a pergunta em até {numero_de_palavras} palavras.\\n    \\n    Responda a pergunta em até {numero_de_linhas} linhas.\\n    \\n    Responda a pergunta em {idioma}.\\n    Responda a pergunta seguindo as instruções {perguntas}'\n",
      "\n",
      "    Responda a pergunta em até 12 palavras.\n",
      "    \n",
      "    Responda a pergunta em até 2 linhas.\n",
      "    \n",
      "    Responda a pergunta em Português.\n",
      "    Responda a pergunta seguindo as instruções Qual é o nome do presidente do Brasil?\n"
     ]
    }
   ],
   "source": [
    "### Multiplos prompts\n",
    "\n",
    "from langchain.prompts import PromptTemplate\n",
    "\n",
    "template_word_count = PromptTemplate.from_template(\"\"\"\n",
    "    Responda a pergunta em até {numero_de_palavras} palavras.\n",
    "    \"\"\")\n",
    "\n",
    "template_line_count = PromptTemplate.from_template(\"\"\"\n",
    "    Responda a pergunta em até {numero_de_linhas} linhas.\n",
    "    \"\"\")\n",
    "\n",
    "template_idioma = PromptTemplate.from_template(\"\"\"\n",
    "    Responda a pergunta em {idioma}.\n",
    "    \"\"\")\n",
    "\n",
    "template_final = (template_word_count + template_line_count + template_idioma + \n",
    "                  \"Responda a pergunta seguindo as instruções {perguntas}\")\n",
    "\n",
    "print(template_final)\n",
    "\n",
    "prompt_final = template_final.format(numero_de_palavras=12, numero_de_linhas=2, idioma=\"Português\", perguntas=\"Qual é o nome do presidente do Brasil?\")\n",
    "\n",
    "print(prompt_final)"
   ]
  },
  {
   "cell_type": "code",
   "execution_count": 10,
   "metadata": {},
   "outputs": [
    {
     "data": {
      "text/plain": [
       "'Human: \\n    Essa é a minha pergunta: Qual é o nome do presidente do Brasil?\\n    '"
      ]
     },
     "execution_count": 10,
     "metadata": {},
     "output_type": "execute_result"
    }
   ],
   "source": [
    "### Template para chat\n",
    "\n",
    "from langchain.prompts import ChatPromptTemplate\n",
    "\n",
    "template_chat = ChatPromptTemplate.from_template(\"\"\"\n",
    "    Essa é a minha pergunta: {pergunta}\n",
    "    \"\"\")\n",
    "\n",
    "template_chat.format(pergunta=\"Qual é o nome do presidente do Brasil?\")\n"
   ]
  },
  {
   "cell_type": "code",
   "execution_count": 13,
   "metadata": {},
   "outputs": [
    {
     "data": {
      "text/plain": [
       "[SystemMessage(content='Você é um assistente de IA que se chama João', additional_kwargs={}, response_metadata={}),\n",
       " HumanMessage(content='Olá, como você está?', additional_kwargs={}, response_metadata={}),\n",
       " AIMessage(content='estou bem, obrigado!', additional_kwargs={}, response_metadata={}),\n",
       " HumanMessage(content='Qual é o nome do presidente do Brasil?', additional_kwargs={}, response_metadata={})]"
      ]
     },
     "execution_count": 13,
     "metadata": {},
     "output_type": "execute_result"
    }
   ],
   "source": [
    "from langchain.prompts import ChatPromptTemplate\n",
    "\n",
    "chat_template = ChatPromptTemplate.from_messages(\n",
    "    [\n",
    "        (\"system\", \"Você é um assistente de IA que se chama {nome}\"),\n",
    "        (\"human\", \"Olá, como você está?\"),\n",
    "        (\"ai\", \"estou bem, obrigado!\"),\n",
    "        (\"human\", \"{pergunta}\"),\n",
    "\n",
    "    ]\n",
    ")\n",
    "\n",
    "chat_template.format_messages(nome=\"João\", pergunta=\"Qual é o nome do presidente do Brasil?\")\n"
   ]
  }
 ],
 "metadata": {
  "kernelspec": {
   "display_name": "Python 3",
   "language": "python",
   "name": "python3"
  },
  "language_info": {
   "codemirror_mode": {
    "name": "ipython",
    "version": 3
   },
   "file_extension": ".py",
   "mimetype": "text/x-python",
   "name": "python",
   "nbconvert_exporter": "python",
   "pygments_lexer": "ipython3",
   "version": "3.11.5"
  }
 },
 "nbformat": 4,
 "nbformat_minor": 2
}
